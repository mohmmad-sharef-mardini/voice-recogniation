{
 "cells": [
  {
   "cell_type": "markdown",
   "id": "57957e93",
   "metadata": {},
   "source": [
    "## MFCC techniuqe to extract featuers from wave voice  \n"
   ]
  },
  {
   "cell_type": "code",
   "execution_count": null,
   "id": "816a1dba",
   "metadata": {},
   "outputs": [],
   "source": [
    "import numpy as np\n",
    "import os\n",
    "from tqdm import tqdm\n",
    "import librosa"
   ]
  },
  {
   "cell_type": "code",
   "execution_count": null,
   "id": "76d92ffd",
   "metadata": {},
   "outputs": [],
   "source": [
    "mfcc_vectors=[]\n",
    "max_len=11\n",
    "for i in range (1,1000) :\n",
    "    i=str(i)\n",
    "    wave, sr = librosa.load(\"data path\", mono=True, sr=30000)\n",
    "    wave = wave[::3]\n",
    "    mfcc = librosa.feature.mfcc(wave, sr=16000)\n",
    "    if (max_len > mfcc.shape[1]):\n",
    "        pad_width = max_len - mfcc.shape[1]\n",
    "        mfcc = np.pad(mfcc, pad_width=((0, 0), (0, pad_width)), mode='constant') \n",
    "# Else cutoff the remaining parts\n",
    "    else:\n",
    "        mfcc = mfcc[:, :max_len]\n",
    "    mfcc_vectors.append(mfcc)\n",
    "np.save(\"pro.npy\",  mfcc_vectors)    "
   ]
  },
  {
   "cell_type": "code",
   "execution_count": null,
   "id": "f8e12609",
   "metadata": {},
   "outputs": [],
   "source": []
  },
  {
   "cell_type": "code",
   "execution_count": null,
   "id": "9c805c84",
   "metadata": {},
   "outputs": [],
   "source": []
  },
  {
   "cell_type": "code",
   "execution_count": null,
   "id": "01ae030c",
   "metadata": {},
   "outputs": [],
   "source": []
  }
 ],
 "metadata": {
  "kernelspec": {
   "display_name": "Python 3 (ipykernel)",
   "language": "python",
   "name": "python3"
  },
  "language_info": {
   "codemirror_mode": {
    "name": "ipython",
    "version": 3
   },
   "file_extension": ".py",
   "mimetype": "text/x-python",
   "name": "python",
   "nbconvert_exporter": "python",
   "pygments_lexer": "ipython3",
   "version": "3.11.4"
  }
 },
 "nbformat": 4,
 "nbformat_minor": 5
}
