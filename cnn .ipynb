{
 "cells": [
  {
   "cell_type": "markdown",
   "id": "68e84f23",
   "metadata": {},
   "source": [
    "## creatingmodel to voice recognation (cnn) "
   ]
  },
  {
   "cell_type": "code",
   "execution_count": null,
   "id": "d516007d",
   "metadata": {},
   "outputs": [],
   "source": [
    "from keras.utils import to_categorical\n",
    "import numpy as np\n",
    "from tqdm import tqdm\n",
    "import os\n",
    "import keras\n",
    "from keras.models import Sequential\n",
    "from keras.layers import Dense, Dropout, Flatten, Conv2D, MaxPooling2D\n",
    "from keras.utils import to_categorical\n",
    "from sklearn.model_selection import train_test_split"
   ]
  },
  {
   "cell_type": "code",
   "execution_count": null,
   "id": "19cfcf99",
   "metadata": {},
   "outputs": [],
   "source": [
    "\n",
    "DATA_PATH = \"C:\\\\Users\\\\LENOVO\\\\Desktop\\\\`\\\\a\"\n",
    "def get_labels(path):\n",
    "    labels = os.listdir(path)\n",
    "    label_indices = np.arange(0, len(labels))\n",
    "    return labels, label_indices, #to_categorical(label_indices)\n",
    "get_labels(DATA_PATH)\n",
    "print(get_labels(DATA_PATH))\n",
    "def get_train_test(split_ratio=0.7, random_state=42):\n",
    "     Get available labels\n",
    "     labels, indices = get_labels(DATA_PATH)\n",
    "    # Getting first arrays\n",
    "     X = np.load('C:\\\\Users\\\\LENOVO\\Desktop\\\\`\\\\a\\\\' + labels[0])\n",
    "     y = np.zeros(X.shape[0])\n",
    "# Append all of the dataset into one single array, same goes for y\n",
    "     for i, label in enumerate(labels[1:]):\n",
    "        x = np.load('C:\\\\Users\\\\LENOVO\\Desktop\\\\`\\\\a\\\\' + label)\n",
    "        X = np.vstack((X, x))\n",
    "        y = np.append(y, np.full(x.shape[0], fill_value= (i + 1)))\n",
    "     assert X.shape[0] == len(y)\n",
    "     return train_test_split(X, y, test_size= (1 - split_ratio), random_state=random_state, shuffle=True)\n",
    "X_train, X_test, y_train, y_test = get_train_test()\n",
    "X_train = X_train.reshape(X_train.shape[0], 20, 11, 1)\n",
    "X_test = X_test.reshape(X_test.shape[0], 20, 11, 1)\n",
    "y_train_hot = to_categorical(y_train)\n",
    "y_test_hot = to_categorical(y_test)  \n",
    "model = Sequential()\n",
    "model.add(Conv2D(32, kernel_size=(2, 2), activation='relu', input_shape=(20, 11, 1)))\n",
    "model.add(MaxPooling2D(pool_size=(2, 2)))\n",
    "model.add(Dropout(0.25))\n",
    "model.add(Flatten())\n",
    "model.add(Dense(128, activation='relu'))\n",
    "model.add(Dropout(0.25))\n",
    "model.add(Dense(2, activation='softmax'))\n",
    "model.compile(loss=keras.losses.categorical_crossentropy,optimizer=keras.optimizers.Adadelta(),metrics=['accuracy'])\n",
    "model.fit(X_train, y_train_hot, batch_size=100, epochs=400, verbose=1, validation_data=(X_test, y_test_hot))   \n",
    "scores = model.evaluate(X_train,y_train_hot, verbose=0)\n",
    "print(\"%s: %.2f%%\" % (model.metrics_names[1], scores[1]*100))\n",
    " \n",
    "# serialize model to JSON\n",
    "model_json = model.to_json()\n",
    "with open(\"model.json\", \"w\") as json_file:\n",
    "    json_file.write(model_json)\n",
    "# serialize weights to HDF5\n",
    "model.save_weights(\"modelcnnaa.h5\")\n",
    "print(\"Saved model to disk\")\n",
    "    \n",
    "    \n"
   ]
  }
 ],
 "metadata": {
  "kernelspec": {
   "display_name": "Python 3 (ipykernel)",
   "language": "python",
   "name": "python3"
  },
  "language_info": {
   "codemirror_mode": {
    "name": "ipython",
    "version": 3
   },
   "file_extension": ".py",
   "mimetype": "text/x-python",
   "name": "python",
   "nbconvert_exporter": "python",
   "pygments_lexer": "ipython3",
   "version": "3.11.4"
  }
 },
 "nbformat": 4,
 "nbformat_minor": 5
}
