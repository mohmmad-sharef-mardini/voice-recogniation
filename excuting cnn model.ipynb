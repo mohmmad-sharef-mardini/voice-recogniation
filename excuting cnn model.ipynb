{
 "cells": [
  {
   "cell_type": "markdown",
   "id": "e5c921b6",
   "metadata": {},
   "source": [
    "## excuting cnn model with a voice "
   ]
  },
  {
   "cell_type": "code",
   "execution_count": null,
   "id": "89b636b6",
   "metadata": {},
   "outputs": [],
   "source": [
    "rom keras.models import model_from_json\n",
    "import numpy\n",
    "import librosa\n",
    "import sounddivce as sd\n",
    "import soundfile as sf\n",
    "import os# load json and create model\n",
    "json_file = open('model.json', 'r')"
   ]
  },
  {
   "cell_type": "code",
   "execution_count": null,
   "id": "905c7c70",
   "metadata": {},
   "outputs": [],
   "source": [
    "json_file = open('model.json', 'r')\n",
    "loaded_model_json = json_file.read()\n",
    "json_file.close()\n",
    "loaded_model = model_from_json(loaded_model_json)\n",
    "# load weights into new model\n",
    "loaded_model.load_weights(\"third.h5\")\n",
    "print(\"Loaded model from disk\")\n",
    "loaded_model.compile(loss=keras.losses.binary_crossentropy,optimizer=keras.optimizers.Adadelta(),metrics=['accuracy'])\n",
    " #score = loaded_model.evaluate(X_test, y_test)\n",
    "#print(\"%s: %.2f%%\" % (loaded_model.metrics_names[1], score[1]*100))\n",
    "s=16000\n",
    "d=3\n",
    "filename=\"tt.wav\"\n",
    "print(\"start\")\n",
    "mydata=sd.rec(int(s*d),samplerate=s,channels=1,blocking=True)\n",
    "print(\"end\")\n",
    "sd.wait()\n",
    "sf.write(filename,mydata,s)\n",
    "on,sr1 = librosa.load(mydata, mono=True, sr=16000)\n",
    "if len(on) <48000 : \n",
    "   dif = 48000-len(on)\n",
    "   on=np.pad(on, (0, dif), 'constant', constant_values=0) \n",
    "on=on[::3]  \n",
    "mfcc = librosa.feature.mfcc(on, sr=16000)\n",
    "if (max_len > mfcc.shape[1]):\n",
    "    pad_width = max_len - mfcc.shape[1]\n",
    "    mfcc = np.pad(mfcc, pad_width=((0, 0), (0, pad_width)), mode='constant') \n",
    "# Else cutoff the remaining parts\n",
    "else:\n",
    "    mfcc = mfcc[:, :max_len]\n",
    "mfcc = mfcc.reshape( 20, 32, 1)\n",
    "ynew = loaded_model.predict_classes(mfcc)    \n",
    "  "
   ]
  }
 ],
 "metadata": {
  "kernelspec": {
   "display_name": "Python 3 (ipykernel)",
   "language": "python",
   "name": "python3"
  },
  "language_info": {
   "codemirror_mode": {
    "name": "ipython",
    "version": 3
   },
   "file_extension": ".py",
   "mimetype": "text/x-python",
   "name": "python",
   "nbconvert_exporter": "python",
   "pygments_lexer": "ipython3",
   "version": "3.11.4"
  }
 },
 "nbformat": 4,
 "nbformat_minor": 5
}
