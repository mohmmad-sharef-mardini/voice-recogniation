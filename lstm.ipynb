{
 "cells": [
  {
   "cell_type": "markdown",
   "id": "b6e9a46d",
   "metadata": {},
   "source": [
    "## creating  model to voice recognition (lstm)"
   ]
  },
  {
   "cell_type": "code",
   "execution_count": null,
   "id": "c27e0c82",
   "metadata": {},
   "outputs": [],
   "source": [
    "from keras.utils import to_categorical\n",
    "import numpy as np\n",
    "import os\n",
    "import keras\n",
    "from keras.models import Sequential\n",
    "from keras.layers import Dense, Dropout, LSTM\n",
    "from keras.utils import to_categorical\n",
    "from sklearn.model_selection import train_test_split"
   ]
  },
  {
   "cell_type": "code",
   "execution_count": null,
   "id": "66290628",
   "metadata": {},
   "outputs": [],
   "source": [
    "def get_train_test(split_ratio=0.7, random_state=42):\n",
    "    \n",
    "    \n",
    "    # Getting first arrays\n",
    "    X = np.load(\"glstm.npy\") \n",
    "    y = np.zeros(X.shape[0])\n",
    "    x = np.load(\"glstm1.npy\")\n",
    "    X = np.vstack((X, x))\n",
    "    y = np.append(y, np.full(x.shape[0], fill_value=+ 1))\n",
    "    assert X.shape[0] == len(y)\n",
    "    return train_test_split(X, y, test_size= (1 - split_ratio), random_state=random_state, shuffle=True)\n",
    "X_train, X_test, y_train, y_test = get_train_test()\n",
    "sp=Sequential()\n",
    "sp.add(LSTM(20,input_shape=(20,63),dropout=0.255,return_sequences=True,recurrent_dropout=0.2))\n",
    "sp.add(LSTM(16,return_sequences=True,dropout=0.255,recurrent_dropout=0.2))\n",
    "sp.add(LSTM(8,return_sequences=True))\n",
    "sp.add(LSTM(4))\n",
    "sp.add(Dense(256,activation='tanh'))\n",
    "sp.add(Dropout(0.4))\n",
    "sp.add(Dense(128,activation='tanh'))\n",
    "sp.add(Dropout(0.3))\n",
    "sp.add(Dense(64,activation='tanh'))\n",
    "sp.add(Dropout(0.35))\n",
    "sp.add(Dense(32,activation='tanh'))\n",
    "sp.add(Dropout(0.35))\n",
    "sp.add(Dense(16,activation='tanh'))\n",
    "sp.add(Dropout(0.35))\n",
    "sp.add(Dense(8,activation='tanh'))\n",
    "sp.add(Dropout(0.35))\n",
    "sp.add(Dense(1,activation='sigmoid'))\n",
    "sp.compile(loss=keras.losses.binary_crossentropy,optimizer=keras.optimizers.Adadelta(),metrics=['accuracy'])\n",
    "sp.fit(X_train, y_train, epochs=100)\n",
    "val_loss, val_acc = sp.evaluate(X_test, y_test)\n",
    "print( val_acc)"
   ]
  }
 ],
 "metadata": {
  "kernelspec": {
   "display_name": "Python 3 (ipykernel)",
   "language": "python",
   "name": "python3"
  },
  "language_info": {
   "codemirror_mode": {
    "name": "ipython",
    "version": 3
   },
   "file_extension": ".py",
   "mimetype": "text/x-python",
   "name": "python",
   "nbconvert_exporter": "python",
   "pygments_lexer": "ipython3",
   "version": "3.11.4"
  }
 },
 "nbformat": 4,
 "nbformat_minor": 5
}
